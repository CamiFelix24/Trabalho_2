{
  "nbformat": 4,
  "nbformat_minor": 0,
  "metadata": {
    "colab": {
      "provenance": [],
      "include_colab_link": true
    },
    "kernelspec": {
      "name": "python3",
      "display_name": "Python 3"
    },
    "language_info": {
      "name": "python"
    }
  },
  "cells": [
    {
      "cell_type": "markdown",
      "metadata": {
        "id": "view-in-github",
        "colab_type": "text"
      },
      "source": [
        "<a href=\"https://colab.research.google.com/github/CamiFelix24/Trabalho_2/blob/main/Atividade_Avaliativa_Individual_RA3_3.ipynb\" target=\"_parent\"><img src=\"https://colab.research.google.com/assets/colab-badge.svg\" alt=\"Open In Colab\"/></a>"
      ]
    },
    {
      "cell_type": "markdown",
      "source": [
        "**Atenção: Regras para a solução da atividade.**\n",
        "\n",
        "1. copie este caderno para a sua conta, criando as células de texto e código que forem necessárias após o enunciado de cada questão;\n",
        "\n",
        "2. não apague os enunciados;\n",
        "\n",
        "3. responda as questões na ordem em que elas se apresentam neste caderno;\n",
        "\n",
        "4. você pode, e deve, consultar todo e qualquer recurso disponível na internet. Mas, não pode consultar nenhum outro ser humano.\n",
        "\n",
        "5. poste no AVA (Canvas) o link para a sua resposta. Pode ser um link para a solução no Google Colab, ou um link para o caderno com suas respostas no Github.\n",
        "\n",
        "A violação de qualquer uma destas regras provoca a anulação da avaliação.\n",
        "\n",
        "Qualquer link que não possa ser executado a partir do link postado irá zerar a avaliação.\n",
        "\n",
        "Qualquer link que leve a uma pasta, arquivo comprimido, ou qualquer outro destino que não seja um caderno executável com as suas repostas provocará a anulação da questão.\n",
        "\n",
        "**Teste usando outro navegador que não esteja logado nas suas contas**.\n",
        "\n",
        "Qualquer link que não possa ser aberto, irá zerar a avaliação.\n",
        "\n",
        "Qualquer comunicação com outro ser humano irá zerar a avaliação.\n",
        "\n",
        "**A interpretação faz parte da Questão!!!**"
      ],
      "metadata": {
        "id": "glKJV24Afj4F"
      }
    },
    {
      "cell_type": "markdown",
      "source": [
        "# Questão 1 (vale até 2 pontos)\n",
        "Determine a área entre as curvas $$y=xe^{-x^{2}}$$ $$y=x+1$$ $$x=2$$ e o eixo $y$, usando somente matplotlib, numpy, sympy. Trace o gráfico desta área preenchendo a área entre as curvas em uma cor diferente.\n",
        "\n"
      ],
      "metadata": {
        "id": "Nd-5JnZUSLb7"
      }
    },
    {
      "cell_type": "code",
      "source": [
        "import numpy as np\n",
        "import matplotlib.pyplot as plt\n",
        "import sympy as sp\n",
        "\n",
        "x = sp.symbols('x')\n",
        "f1 = x * sp.exp(-x**2)\n",
        "f2 = x + 1\n",
        "\n",
        "f1_lambda = sp.lambdify(x, f1)\n",
        "f2_lambda = sp.lambdify(x, f2)\n",
        "\n",
        "x_min = 2\n",
        "x_max = 5\n",
        "y_min = 0\n",
        "y_max = max(f1_lambda(x_max), f2_lambda(x_max)) + 1\n",
        "\n",
        "x_vals = np.linspace(x_min, x_max, 500)\n",
        "\n",
        "y1_vals = f1_lambda(x_vals)\n",
        "y2_vals = f2_lambda(x_vals)\n",
        "\n",
        "plt.plot(x_vals, y1_vals, label='y = xe^(-x^2)')\n",
        "plt.plot(x_vals, y2_vals, label='y = x + 1')\n",
        "\n",
        "plt.fill_between(x_vals, y1_vals, y2_vals, where=(y1_vals >= y2_vals), color='gray', alpha=0.5)\n",
        "\n",
        "plt.xlim(x_min, x_max)\n",
        "plt.ylim(y_min, y_max)\n",
        "plt.xlabel('x')\n",
        "plt.ylabel('y')\n",
        "plt.legend()\n",
        "plt.show()\n"
      ],
      "metadata": {
        "id": "TGV9sJmhZtoe",
        "colab": {
          "base_uri": "https://localhost:8080/",
          "height": 455
        },
        "outputId": "504bc1aa-035c-4985-acd2-5e21eb4cb92a"
      },
      "execution_count": 2,
      "outputs": [
        {
          "output_type": "display_data",
          "data": {
            "text/plain": [
              "<Figure size 640x480 with 1 Axes>"
            ],
            "image/png": "[encoded data removed]"
          },
          "metadata": {}
        }
      ]
    },
    {
      "cell_type": "markdown",
      "source": [
        "# Questão 2 (vale até 2 pontos)\n",
        "Resolva, algebricamente, explicitando em latex todos os passos necessários, as seguintes integrais:\n",
        "\n",
        "##a)\n",
        "$$\\int \\cos(3t) \\sin(8t) dt $$\n",
        "##b)\n",
        "$$\\int 4x \\cos(2-3x) dx$$\n"
      ],
      "metadata": {
        "id": "BKjvCcYGUXfO"
      }
    },
    {
      "cell_type": "code",
      "source": [],
      "metadata": {
        "id": "jqnP1D0DikVx"
      },
      "execution_count": null,
      "outputs": []
    },
    {
      "cell_type": "markdown",
      "source": [
        "##Resposta a)\n",
        "$$\\int \\cos(3t) \\sin(8t) dt $$\n",
        "\n",
        "$$sin(a)\\cos(b) = (1/2)(\\sin(a+b) + \\sin(a-b))$$\n",
        "\n",
        "Aplicando essa identidade, temos:\n",
        "\n",
        "$$∫\\cos(3t)\\sin(8t)dt = (1/2)∫[\\sin(3t+8t) + \\sin(3t-8t)]dt$$\n",
        "\n",
        "Simplificando os ângulos dentro das funções seno, temos:\n",
        "\n",
        "$$∫\\cos(3t)\\sin(8t)dt = (1/2)∫\\sin(11t)dt + (1/2)∫\\sin(-5t)dt$$\n",
        "\n",
        "Agora, vamos integrar cada termo separadamente:\n",
        "\n",
        "$$∫\\sin(11t)dt:$$\n",
        "Integrando a função seno, temos:\n",
        "\n",
        "$$∫\\sin(11t)dt = -(1/11)\\cos(11t) + C1$$\n",
        "\n",
        "$$∫\\sin(-5t)dt:$$\n",
        "Como a função seno é uma função ímpar, temos:\n",
        "\n",
        "$$∫\\sin(-5t)dt = -(1/5)\\cos(-5t) + C2$$\n",
        "\n",
        "Simplificando os sinais negativos:\n",
        "\n",
        "$$∫\\sin(-5t)dt = -(1/5)\\cos(5t) + C2$$\n",
        "\n",
        "Agora, juntando todos os termos, temos:\n",
        "\n",
        "$$∫\\cos(3t)\\sin(8t)dt = (1/2)(-(1/11)\\cos(11t) + C1) + (1/2)(-(1/5)\\cos(5t) + C2)$$\n",
        "\n",
        "Simplificando:\n",
        "\n",
        "$$∫\\cos(3t)\\sin(8t)dt = -(1/22)\\cos(11t) + C1 - (1/10)\\cos(5t) + C2$$\n",
        "\n",
        "Portanto, a solução da integral é:\n",
        "\n",
        "$$∫\\cos(3t)\\sin(8t)dt = -(1/22)\\cos(11t) - (1/10)\\cos(5t) + C$$\n",
        "\n",
        "Onde C é a constante de integração."
      ],
      "metadata": {
        "id": "w9mMSqmHax8I"
      }
    },
    {
      "cell_type": "code",
      "source": [],
      "metadata": {
        "id": "XcgjDsRnii9K"
      },
      "execution_count": null,
      "outputs": []
    },
    {
      "cell_type": "markdown",
      "source": [
        "##Resposta b)\n",
        "$$\\int 4x \\cos(2-3x) dx$$\n",
        "\n",
        "$$∫u * v dx = u * ∫v dx - ∫(u' * ∫v dx) dx$$\n",
        "\n",
        "Vamos atribuir:\n",
        "$$u = 4x (função a ser diferenciada)$$\n",
        "$$dv = \\cos(2-3x)dx (função a ser integrada)$$\n",
        "\n",
        "Calculando as derivadas de u e a integral de dv:\n",
        "\n",
        "$$du = 4dx$$\n",
        "$$v = ∫\\cos(2-3x)dx$$\n",
        "\n",
        "Agora, vamos calcular a integral de v. Fazendo uma mudança de variável, u = 2-3x, temos du = -3dx, e podemos reescrever a integral como:\n",
        "\n",
        "$$∫\\cos(2-3x)dx = (-1/3) ∫\\cos(u)du$$\n",
        "\n",
        "A integral de cos(u) é sin(u):\n",
        "\n",
        "$$∫\\cos(2-3x)dx = (-1/3)\\sin(u)$$\n",
        "\n",
        "Substituindo u = 2-3x:\n",
        "\n",
        "$$∫\\cos(2-3x)dx = (-1/3)\\sin(2-3x)$$\n",
        "\n",
        "Agora, podemos aplicar a fórmula da integração por partes:\n",
        "\n",
        "$$∫4x \\cos(2-3x)dx = u * ∫v dx - ∫(u' * ∫v dx) dx$$\n",
        "\n",
        "$$∫4x \\cos(2-3x)dx = 4x * (-1/3)\\sin(2-3x) - ∫(4 * (-1/3) * \\sin(2-3x) dx)$$\n",
        "\n",
        "Simplificando:\n",
        "\n",
        "$$∫4x \\cos(2-3x)dx = (-4/3)x \\sin(2-3x) + (4/9)∫\\sin(2-3x)dx$$\n",
        "\n",
        "Agora, podemos calcular a integral de ∫sin(2-3x)dx usando uma mudança de variável similar à anterior. Fazendo u = 2-3x, temos du = -3dx, e podemos reescrever a integral como:\n",
        "\n",
        "$$∫\\sin(2-3x)dx = (-1/3) ∫\\sin(u)du$$\n",
        "\n",
        "A integral de sin(u) é -cos(u):\n",
        "\n",
        "$$∫\\sin(2-3x)dx = (-1/3)(-\\cos(u))$$\n",
        "\n",
        "Substituindo u = 2-3x:\n",
        "\n",
        "$$∫\\sin(2-3x)dx = (1/3)\\cos(2-3x)$$\n",
        "\n",
        "Agora, substituindo esse resultado na expressão anterior, temos:\n",
        "\n",
        "$$∫4x \\cos(2-3x)dx = (-4/3)x \\sin(2-3x) + (4/9)(1/3)\\cos(2-3x)$$\n",
        "\n",
        "Simplificando:\n",
        "\n",
        "$$∫4x \\cos(2-3x)dx = (-4/3)x \\sin(2-3x) + (4/27)\\cos(2-3x)$$\n",
        "\n",
        "Portanto, a solução da integral é:\n",
        "\n",
        "$$∫4x \\cos(2-3x)dx = (-4/3)x \\sin(2-3x) + (4/27)\\cos(2-3x) + C$$\n",
        "\n",
        "Onde C é a constante de integração."
      ],
      "metadata": {
        "id": "8R3dONilbi5_"
      }
    },
    {
      "cell_type": "code",
      "source": [],
      "metadata": {
        "id": "OnFhzwNaim7m"
      },
      "execution_count": null,
      "outputs": []
    },
    {
      "cell_type": "markdown",
      "source": [
        "# Questão 3 (vale até 4 pontos)\n",
        "Calcule o valor das integrais definidas explicitadas a seguir. Trace o gráfico das funções que foram integradas e das funções encontradas após a integração destacando, com linhas verticais, os limites de integração.\n",
        "\n",
        "##a)\n",
        "$$\\int_0^2 x^2+1 \\space dx$$\n",
        "\n",
        "##b)\n",
        "$$\\int_{-3}^1 6x^2-5x+2 \\space dx$$\n",
        "\n"
      ],
      "metadata": {
        "id": "_zJUSlB6X0-X"
      }
    },
    {
      "cell_type": "code",
      "source": [
        "# Resposta a)\n",
        "\n",
        "import numpy as np\n",
        "import matplotlib.pyplot as plt\n",
        "\n",
        "def f(x):\n",
        "    return x**2 + 1\n",
        "\n",
        "x_vals = np.linspace(0, 2, 100)\n",
        "\n",
        "y_vals = f(x_vals)\n",
        "\n",
        "plt.plot(x_vals, y_vals, label='y = x^2 + 1')\n",
        "\n",
        "plt.fill_between(x_vals, y_vals, color='gray', alpha=0.5)\n",
        "\n",
        "plt.axvline(x=0, color='red', linestyle='--')\n",
        "plt.axvline(x=2, color='red', linestyle='--')\n",
        "\n",
        "plt.xlim(0, 2)\n",
        "plt.ylim(0, max(y_vals) + 1)\n",
        "plt.xlabel('x')\n",
        "plt.ylabel('y')\n",
        "plt.legend()\n",
        "plt.show()\n"
      ],
      "metadata": {
        "colab": {
          "base_uri": "https://localhost:8080/",
          "height": 455
        },
        "id": "wo21pU6Gc_51",
        "outputId": "479330a5-4eda-4550-d039-65d96fdd332d"
      },
      "execution_count": 6,
      "outputs": [
        {
          "output_type": "display_data",
          "data": {
            "text/plain": [
              "<Figure size 640x480 with 1 Axes>"
            ],
            "image/png": "[encoded data removed]"
          },
          "metadata": {}
        }
      ]
    },
    {
      "cell_type": "code",
      "source": [
        "# Resposta b)\n",
        "\n",
        "import numpy as np\n",
        "import matplotlib.pyplot as plt\n",
        "\n",
        "def f(x):\n",
        "    return 6*x**2 - 5*x + 2\n",
        "\n",
        "x_vals = np.linspace(-3, 1, 100)\n",
        "\n",
        "y_vals = f(x_vals)\n",
        "\n",
        "plt.plot(x_vals, y_vals, label='y = 6x^2 - 5x + 2')\n",
        "\n",
        "plt.fill_between(x_vals, y_vals, color='gray', alpha=0.5)\n",
        "\n",
        "plt.axvline(x=-3, color='red', linestyle='--')\n",
        "plt.axvline(x=1, color='red', linestyle='--')\n",
        "\n",
        "plt.xlim(-3, 1)\n",
        "plt.ylim(0, max(y_vals) + 1)\n",
        "plt.xlabel('x')\n",
        "plt.ylabel('y')\n",
        "plt.legend()\n",
        "plt.show()\n"
      ],
      "metadata": {
        "colab": {
          "base_uri": "https://localhost:8080/",
          "height": 449
        },
        "id": "pNtwVoSqdRIV",
        "outputId": "91484e7e-0a7a-4fc5-b069-73a06cd6b5ac"
      },
      "execution_count": 7,
      "outputs": [
        {
          "output_type": "display_data",
          "data": {
            "text/plain": [
              "<Figure size 640x480 with 1 Axes>"
            ],
            "image/png": "[encoded data removed]"
          },
          "metadata": {}
        }
      ]
    },
    {
      "cell_type": "markdown",
      "source": [
        "#Questão 4 (vale até 1 ponto)\n",
        "A taxa de variação de juros nos primeiros meses do ano de 2023 é dada por $v = 3t^2 - e^t$. Onde $t$ é o tempo dado em dias. Encontre a função que determina o juro, $j$ a ser pago em um determinado dia deste período de forma algébrica em latex.\n",
        "\n"
      ],
      "metadata": {
        "id": "FfkPDSJ9ZjzM"
      }
    },
    {
      "cell_type": "code",
      "source": [],
      "metadata": {
        "id": "KvqBvrt2ioZg"
      },
      "execution_count": null,
      "outputs": []
    },
    {
      "cell_type": "markdown",
      "source": [
        "## Resposta Questão 4\n",
        "\n",
        "Calcular a integral da função v = 3t^2 - e^t em relação a t:\n",
        "\n",
        "$$∫(3t^2 - e^t)dt$$\n",
        "\n",
        "Para simplificar o cálculo, vamos tratar cada termo separadamente:\n",
        "\n",
        "$$∫3t^2dt - ∫e^tdt$$\n",
        "\n",
        "Integrando cada termo separadamente:\n",
        "\n",
        "$$∫3t^2dt = t^3 + C_1$$\n",
        "$$∫e^tdt = e^t + C_2$$\n",
        "\n",
        "Portanto, a função que determina o juro a ser pago em um determinado dia é dada por:\n",
        "\n",
        "$$i(t) = t^3 - e^t + C$$\n",
        "\n",
        "onde C é a constante de integração."
      ],
      "metadata": {
        "id": "xHAN1lS_eDS5"
      }
    },
    {
      "cell_type": "code",
      "source": [],
      "metadata": {
        "id": "OTEkGe1UipOy"
      },
      "execution_count": null,
      "outputs": []
    },
    {
      "cell_type": "markdown",
      "source": [
        "#Questão 5 (vale até 1 ponto)\n",
        "Encontre o valor da constante C para a antiderivada $F(x)$ da função $f(x) = 3x^3 - 2x + 1$ de tal forma que $F(1)=0$. Apresente seus cálculos em latex e explique as decisões que tomou."
      ],
      "metadata": {
        "id": "fTcR_sZSeAMW"
      }
    },
    {
      "cell_type": "code",
      "source": [],
      "metadata": {
        "id": "hf8iR0g6ip1r"
      },
      "execution_count": null,
      "outputs": []
    },
    {
      "cell_type": "markdown",
      "source": [
        "## Resposta Questão 5\n",
        "\n",
        "Vamos primeiro calcular a antiderivada F(x) da função f(x):\n",
        "\n",
        "$$F(x) = ∫(3x^2 - 2x + 1)dx$$\n",
        "\n",
        "Para cada termo, vamos integrar separadamente:\n",
        "\n",
        "$$∫3x^3dx = \\frac{3}{4}x^4 + C_1$$\n",
        "$$∫-2xdx = -x^2 + C_2$$\n",
        "$$∫1dx = x + C_3$$\n",
        "\n",
        "Agora, vamos somar essas antiderivadas:\n",
        "\n",
        "$$F(x) = \\frac{3}{4}x^4 - x^2 + x + C$$\n",
        "\n",
        "onde C é uma constante de integração que representa a soma das constantes C1, C2 e C3.\n",
        "\n",
        "Para encontrar o valor de C, utilizamos a condição F(1) = 0, substituindo x por 1:\n",
        "\n",
        "$$F(1) = \\frac{3}{4}(1)^4 - (1)^2 + (1) + C = \\frac{3}{4} - 1 + 1 + C = 0$$\n",
        "\n",
        "Simplificando a equação:\n",
        "\n",
        "$$\\frac{3}{4} + C = 0$$\n",
        "\n",
        "Isolando C, temos:\n",
        "\n",
        "$$C = - \\frac{3}{4}$$\n",
        "\n",
        "Portanto, o valor da constante C para a antiderivada F(x) da função f(x) = 3x^3 - 2x + 1, de forma que F(1) = 0, é C = -3/4."
      ],
      "metadata": {
        "id": "ZcYsnW6VfwKJ"
      }
    }
  ]
}