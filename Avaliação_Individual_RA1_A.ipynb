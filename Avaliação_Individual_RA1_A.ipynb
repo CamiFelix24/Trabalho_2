{
  "nbformat": 4,
  "nbformat_minor": 0,
  "metadata": {
    "colab": {
      "provenance": [],
      "include_colab_link": true
    },
    "kernelspec": {
      "name": "python3",
      "display_name": "Python 3"
    },
    "language_info": {
      "name": "python"
    }
  },
  "cells": [
    {
      "cell_type": "markdown",
      "metadata": {
        "id": "view-in-github",
        "colab_type": "text"
      },
      "source": [
        "<a href=\"https://colab.research.google.com/github/CamiFelix24/Trabalho_2/blob/main/Avalia%C3%A7%C3%A3o_Individual_RA1_A.ipynb\" target=\"_parent\"><img src=\"https://colab.research.google.com/assets/colab-badge.svg\" alt=\"Open In Colab\"/></a>"
      ]
    },
    {
      "cell_type": "markdown",
      "source": [
        "# Instruções:\n",
        "Para a realização desta tarefa você precisa fazer uma cópia deste carderno de questões para a sua conta. Você responderá a questão colando no AVA o link para a sua cópia contendo as suas respostas. \n",
        "\n",
        "Todas as questões precisam ser resolvidas algébrica e computacionalmente. Usando todos os recursos computacionais disponíveis na internet. Mas, **você não pode consultar outros seres humanos.** \n",
        "\n",
        "**Não se equeça de preencher seu nome nesta célula:**\n",
        "# Nome: Camila Przendziuk Franco Felix"
      ],
      "metadata": {
        "id": "C0wsfxvc_qF7"
      }
    },
    {
      "cell_type": "markdown",
      "source": [
        "# Questão 1: \n",
        "A população de uma cidade está crescendo exponencialmente. No ano de 2020, a população era de 50.000 habitantes, e a taxa de crescimento anual é de 3%. Qual será a população em 2030? Use a fórmula:\n",
        "\n",
        "$$\n",
        "P(t) = P_0 \\cdot (1 + r)^t\n",
        "$$\n",
        "\n",
        "onde $P_0$ é a população inicial, $r$ é a taxa de crescimento e $t$ é o tempo em anos. Não se esqueça de traçar um gráfico mostrando o crescimento populacional entre os anos de 2020 e 2040, ano a ano.\n"
      ],
      "metadata": {
        "id": "xPjntyHxAclq"
      }
    },
    {
      "cell_type": "code",
      "execution_count": 41,
      "metadata": {
        "id": "H-E4jwoh_kg4",
        "colab": {
          "base_uri": "https://localhost:8080/",
          "height": 295
        },
        "outputId": "b0388595-1cef-4361-9ccf-982ce97030db"
      },
      "outputs": [
        {
          "output_type": "display_data",
          "data": {
            "text/plain": [
              "<Figure size 432x288 with 1 Axes>"
            ],
            "image/png": "[encoded data removed]"
          },
          "metadata": {
            "needs_background": "light"
          }
        }
      ],
      "source": [
        "import numpy as np\n",
        "import matplotlib.pyplot as plt\n",
        "\n",
        "def population_growth(t):\n",
        "    P0 = 50000\n",
        "    r = 0.03\n",
        "    return P0 * (1 + r) ** t\n",
        "\n",
        "t = np.linspace(0, 20)\n",
        "\n",
        "populacao = population_growth(t)\n",
        "\n",
        "plt.plot(t, populacao)\n",
        "\n",
        "plt.title('Crescimento Populacional')\n",
        "plt.xlabel('Ano')\n",
        "plt.ylabel('População')\n",
        "\n",
        "plt.show()\n"
      ]
    },
    {
      "cell_type": "markdown",
      "source": [
        "# Questão 2\n",
        "Usando, a seu critério as bibliotecas do Python, crie um gráfico para cada uma das funções a seguir. No label do gráfico deverá estar a função impressa com qualidade matemática (latex) e uma label dizendo se a função é crescente ou decrescente. \n",
        "\n",
        "1. $2^x + 3^x = 25$\n",
        "\n",
        "2. $\\log_2(x) - \\log_2(3) = 1$"
      ],
      "metadata": {
        "id": "gXHLbWynPNhe"
      }
    },
    {
      "cell_type": "code",
      "source": [
        "import matplotlib.pyplot as plt\n",
        "import numpy as np\n",
        "\n",
        "def func(x):\n",
        "    return 2**x + 3**x - 25\n",
        "\n",
        "x = np.linspace(-5, 5, num=500)\n",
        "y = func(x)\n",
        "\n",
        "fig, ax = plt.subplots()\n",
        "ax.plot(x, y)\n",
        "\n",
        "ax.axhline(y=0, color='k')\n",
        "ax.axvline(x=0, color='k')\n",
        "\n",
        "plt.title('Função Crescente')\n",
        "ax.set_xlabel('x')\n",
        "ax.set_ylabel('y')\n",
        "ax.grid(True)\n",
        "plt.show()\n"
      ],
      "metadata": {
        "colab": {
          "base_uri": "https://localhost:8080/",
          "height": 295
        },
        "id": "4f63SgO3BeQy",
        "outputId": "b4683ca6-e46b-4091-c570-881e4809a081"
      },
      "execution_count": 38,
      "outputs": [
        {
          "output_type": "display_data",
          "data": {
            "text/plain": [
              "<Figure size 432x288 with 1 Axes>"
            ],
            "image/png": "[encoded data removed]"
          },
          "metadata": {
            "needs_background": "light"
          }
        }
      ]
    },
    {
      "cell_type": "code",
      "source": [
        "import numpy as np\n",
        "import matplotlib.pyplot as plt\n",
        "\n",
        "x = np.linspace(1, 10)\n",
        "\n",
        "y = np.log2(x) - np.log2(3) - 1\n",
        "\n",
        "fig, ax = plt.subplots()\n",
        "ax.plot(x, y)\n",
        "\n",
        "ax.axhline(y=0, color='k')\n",
        "ax.axvline(x=0, color='k')\n",
        "\n",
        "plt.title('Graph of log2(x) - log2(3) = 1')\n",
        "plt.title('Função Crescente')\n",
        "ax.set_xlabel('x')\n",
        "ax.set_ylabel('y')\n",
        "ax.grid(True)\n",
        "plt.show()\n"
      ],
      "metadata": {
        "id": "6vd7lcjeQS8h",
        "colab": {
          "base_uri": "https://localhost:8080/",
          "height": 295
        },
        "outputId": "cf6e3ab8-f1a2-4dfb-f2d8-98f9ab66b889"
      },
      "execution_count": 37,
      "outputs": [
        {
          "output_type": "display_data",
          "data": {
            "text/plain": [
              "<Figure size 432x288 with 1 Axes>"
            ],
            "image/png": "[encoded data removed]"
          },
          "metadata": {
            "needs_background": "light"
          }
        }
      ]
    },
    {
      "cell_type": "markdown",
      "source": [
        "# Questão 3\n",
        "Usando o Sympy, ou qualquer outro recurso disponível na internet, escreva, com qualidade matemática o passo-a-passo algébrico que leva a determinação dos seguintes limites. Ao final, para cada uma das equações você deverá traçar um gráfico da função. \n",
        "\n",
        "1. $\\lim_{x \\to 2} \\frac{x^3 - 8}{x - 2}$\n",
        "\n",
        "2. $\\lim_{x \\to \\infty} \\frac{3x^2 + 2x - 1}{x^2 - 4x + 7}$\n",
        "\n"
      ],
      "metadata": {
        "id": "0Vv2m0IuQTYs"
      }
    },
    {
      "cell_type": "markdown",
      "source": [
        "$\\lim_{x \\to 2} \\frac{x^3 - 8}{x - 2}$\n",
        "\n",
        "1. Primeiro, a expressão é indefinida em x=2, porque a divisão por zero é indefinida. Portanto, teremos que usar algumas técnicas algébricas para cancelar o (x-2) no denominador antes de podermos avaliar a expressão em x=2.\n",
        "\n",
        "2. Podemos começar fatorando o numerador:\n",
        "     x^3 - 8 = (x-2)(x^2 + 2x + 4)\n",
        "Sabemos que isso é verdade usando a fórmula para a diferença de cubos: a^3 - b^3 = (a-b)(a^2 + ab + b^2).\n",
        "\n",
        "3. Agora podemos reescrever a expressão:\n",
        "     lim x->2 [(x-2)(x^2 + 2x + 4)]/(x-2)\n",
        "\n",
        "4. Podemos cancelar o (x-2) no numerador com o (x-2) no denominador, ficando com:\n",
        "     lim x->2 (x^2 + 2x + 4)\n",
        "\n",
        "5. Agora podemos avaliar a expressão em x=2:\n",
        "     (2^2 + 2(2) + 4) = 12\n",
        "\n",
        "Portanto, o valor do limite é 12."
      ],
      "metadata": {
        "id": "BE9sdrwaZVbc"
      }
    },
    {
      "cell_type": "markdown",
      "source": [
        "$\\lim_{x \\to \\infty} \\frac{3x^2 + 2x - 1}{x^2 - 4x + 7}$\n",
        "\n",
        "Para calcular o limite lim x →∞ (3x^2+2x-1)/(x^2-4x+7), podemos usar o fato de que à medida que x fica cada vez maior (aproximando-se do infinito), os termos envolvendo potências menores de x tornam-se insignificantes quando comparadas àquelas envolvendo potências maiores de x.\n",
        "\n",
        "Então, o primeiro passo é olhar para a maior potência de x no numerador e no denominador. Nesse caso, temos 3x^2 no numerador e x^2 no denominador, então podemos esperar que o limite se aproxime do infinito.\n",
        "\n",
        "Para ver isso com mais clareza, podemos usar divisão longa ou divisão sintética para simplificar a expressão. Fazendo isso, obtemos:\n",
        "\n",
        "(3x^2 + 2x - 1) ÷ (x^2 - 4x + 7) = 3 + (14x - 22)/(x^2 - 4x + 7)\n",
        "\n",
        "Agora, à medida que x se aproxima do infinito, a fração entre parênteses se tornará muito pequena em comparação com o termo 14x. Isso significa que:\n",
        "\n",
        "lim x →∞ (14x - 22)/(x^2 - 4x + 7) = 0\n",
        "\n",
        "Portanto, o limite geral se aproximará de:\n",
        "\n",
        "lim x →∞ (3x^2+2x-1)/(x^2-4x+7) = 3 + 0 = 3"
      ],
      "metadata": {
        "id": "DPsMcg-kGG4C"
      }
    }
  ]
}